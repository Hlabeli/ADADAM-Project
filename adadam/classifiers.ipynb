{
 "cells": [
  {
   "cell_type": "code",
   "execution_count": 6,
   "id": "7125f031",
   "metadata": {},
   "outputs": [],
   "source": [
    "import pandas as pd\n",
    "import numpy as np\n",
    "import matplotlib.pyplot as plt\n",
    "import pickle\n",
    "import os as path"
   ]
  },
  {
   "cell_type": "code",
   "execution_count": 5,
   "id": "2c012d32",
   "metadata": {},
   "outputs": [],
   "source": [
    "bin_data = pd.read_csv('dataset/bin_data.csv')\n",
    "bin_data.drop(bin_data.columns[0], axis=1, inplace=True)\n",
    "multi_data = pd.read_csv('dataset/multi_data.csv')\n",
    "multi_data.drop(multi_data.columns[0], axis=1, inplace=True)\n",
    "\n",
    "le1_classes_ = np.load('le1_classes.npy', allow_pickle=True)\n",
    "le2_classes_ = np.load('le2_classes.npy', allow_pickle=True)\n"
   ]
  },
  {
   "cell_type": "code",
   "execution_count": 6,
   "id": "4c6aca67",
   "metadata": {},
   "outputs": [],
   "source": [
    "from sklearn.svm import SVC"
   ]
  },
  {
   "cell_type": "code",
   "execution_count": 7,
   "id": "d4e524e7",
   "metadata": {},
   "outputs": [],
   "source": [
    "X = bin_data.iloc[:, 0:93].to_numpy()\n",
    "Y = bin_data['intrusion']"
   ]
  },
  {
   "cell_type": "code",
   "execution_count": 8,
   "id": "a7120889",
   "metadata": {},
   "outputs": [],
   "source": [
    "from sklearn.metrics import accuracy_score\n",
    "from sklearn.model_selection import train_test_split\n",
    "from sklearn.metrics import classification_report\n"
   ]
  },
  {
   "cell_type": "code",
   "execution_count": 9,
   "metadata": {},
   "outputs": [],
   "source": [
    "X_train, X_test, y_train, y_test = train_test_split(X,Y, test_size=0.25, random_state=42) \n"
   ]
  },
  {
   "cell_type": "code",
   "execution_count": 10,
   "id": "1d89b790",
   "metadata": {},
   "outputs": [],
   "source": [
    "lsvm = SVC(kernel='linear',gamma='auto') \n",
    "lsvm.fit(X_train,y_train) "
   ]
  },
  {
   "cell_type": "code",
   "execution_count": 8,
   "id": "1045b1fc",
   "metadata": {},
   "outputs": [
    {
     "ename": "AttributeError",
     "evalue": "module 'os' has no attribute 'is_file'",
     "output_type": "error",
     "traceback": [
      "\u001b[1;31m---------------------------------------------------------------------------\u001b[0m",
      "\u001b[1;31mAttributeError\u001b[0m                            Traceback (most recent call last)",
      "\u001b[1;32mc:\\Users\\user\\Documents\\ADADAM-Project\\adadam\\classifiers.ipynb Cell 8\u001b[0m in \u001b[0;36m<cell line: 2>\u001b[1;34m()\u001b[0m\n\u001b[0;32m      <a href='vscode-notebook-cell:/c%3A/Users/user/Documents/ADADAM-Project/adadam/classifiers.ipynb#X12sZmlsZQ%3D%3D?line=0'>1</a>\u001b[0m pkl_filename \u001b[39m=\u001b[39m \u001b[39m\"\u001b[39m\u001b[39mmodels/lsvm_multi.pkl\u001b[39m\u001b[39m\"\u001b[39m\n\u001b[1;32m----> <a href='vscode-notebook-cell:/c%3A/Users/user/Documents/ADADAM-Project/adadam/classifiers.ipynb#X12sZmlsZQ%3D%3D?line=1'>2</a>\u001b[0m \u001b[39mif\u001b[39;00m (\u001b[39mnot\u001b[39;00m path\u001b[39m.\u001b[39;49mis_file(pkl_filename)):\n\u001b[0;32m      <a href='vscode-notebook-cell:/c%3A/Users/user/Documents/ADADAM-Project/adadam/classifiers.ipynb#X12sZmlsZQ%3D%3D?line=2'>3</a>\u001b[0m   \u001b[39mwith\u001b[39;00m \u001b[39mopen\u001b[39m(pkl_filename, \u001b[39m'\u001b[39m\u001b[39mwb\u001b[39m\u001b[39m'\u001b[39m) \u001b[39mas\u001b[39;00m file:\n\u001b[0;32m      <a href='vscode-notebook-cell:/c%3A/Users/user/Documents/ADADAM-Project/adadam/classifiers.ipynb#X12sZmlsZQ%3D%3D?line=3'>4</a>\u001b[0m     pickle\u001b[39m.\u001b[39mdump(lsvm, file)\n",
      "\u001b[1;31mAttributeError\u001b[0m: module 'os' has no attribute 'is_file'"
     ]
    }
   ],
   "source": [
    "pkl_filename = \"models/lsvm_multi.pkl\"\n",
    "if (not path.isfile(pkl_filename)):\n",
    "  with open(pkl_filename, 'wb') as file:\n",
    "    pickle.dump(lsvm, file)\n",
    "  print(\"Saved model to disk\")\n",
    "  with open(pkl_filename, 'rb') as file:\n",
    "    lsvm = pickle.load(file)\n",
    "  print(\"Loade model from disk\")"
   ]
  }
 ],
 "metadata": {
  "kernelspec": {
   "display_name": "Python 3.10.4 64-bit",
   "language": "python",
   "name": "python3"
  },
  "language_info": {
   "codemirror_mode": {
    "name": "ipython",
    "version": 3
   },
   "file_extension": ".py",
   "mimetype": "text/x-python",
   "name": "python",
   "nbconvert_exporter": "python",
   "pygments_lexer": "ipython3",
   "version": "3.10.4"
  },
  "vscode": {
   "interpreter": {
    "hash": "fb4569285eef3a3450cb62085a5b1e0da4bce0af555edc33dcf29baf3acc1368"
   }
  }
 },
 "nbformat": 4,
 "nbformat_minor": 5
}
